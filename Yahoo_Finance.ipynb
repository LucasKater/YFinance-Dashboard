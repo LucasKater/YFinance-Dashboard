{
  "nbformat": 4,
  "nbformat_minor": 0,
  "metadata": {
    "colab": {
      "provenance": []
    },
    "kernelspec": {
      "name": "python3",
      "display_name": "Python 3"
    },
    "language_info": {
      "name": "python"
    }
  },
  "cells": [
    {
      "cell_type": "markdown",
      "source": [
        "### Importando Bibliotecas"
      ],
      "metadata": {
        "id": "kg3hyZbpJVdG"
      }
    },
    {
      "cell_type": "code",
      "execution_count": null,
      "metadata": {
        "id": "qTk86cDhJRzB"
      },
      "outputs": [],
      "source": [
        "import yfinance as yf\n",
        "import pandas as pd\n",
        "import numpy as np\n",
        "from flask import Flask, jsonify"
      ]
    },
    {
      "cell_type": "markdown",
      "source": [
        "### Definição dos ativos financeiros (fundos e criptomoedas)"
      ],
      "metadata": {
        "id": "YterZb7HJbv4"
      }
    },
    {
      "cell_type": "code",
      "source": [
        "tickers_fundos = [\"BOVA11.SA\", \"IVVB11.SA\", \"HASH11.SA\", \"SMAL11.SA\", \"XFIX11.SA\", \"AAPL\", \"MSFT\", \"TSLA\", \"GOOGL\", \"AMZN\"]\n",
        "tickers_criptos = [\"BTC-USD\", \"ETH-USD\", \"ADA-USD\", \"XRP-USD\", \"SOL-USD\"]\n",
        "tickers = tickers_fundos + tickers_criptos"
      ],
      "metadata": {
        "id": "cUJ6c_34Je6d"
      },
      "execution_count": null,
      "outputs": []
    },
    {
      "cell_type": "markdown",
      "source": [
        "### Dicionário contendo as URLs dos logos dos ativos"
      ],
      "metadata": {
        "id": "a5Cxw-C1JkUC"
      }
    },
    {
      "cell_type": "code",
      "source": [
        "logos = {\n",
        "    \"BOVA11.SA\": \"https://logourl.com/bova11.png\",\n",
        "    \"IVVB11.SA\": \"https://logourl.com/ivvb11.png\",\n",
        "    \"HASH11.SA\": \"https://logourl.com/hash11.png\",\n",
        "    \"SMAL11.SA\": \"https://logourl.com/smal11.png\",\n",
        "    \"XFIX11.SA\": \"https://logourl.com/xfix11.png\",\n",
        "    \"AAPL\": \"https://logo.clearbit.com/apple.com\",\n",
        "    \"MSFT\": \"https://logo.clearbit.com/microsoft.com\",\n",
        "    \"TSLA\": \"https://logo.clearbit.com/tesla.com\",\n",
        "    \"GOOGL\": \"https://logo.clearbit.com/google.com\",\n",
        "    \"AMZN\": \"https://logo.clearbit.com/amazon.com\",\n",
        "    \"BTC-USD\": \"https://www.cryptocompare.com/media/37746251/btc.png\",\n",
        "    \"ETH-USD\": \"https://www.cryptocompare.com/media/37746238/eth.png\",\n",
        "    \"ADA-USD\": \"https://www.cryptocompare.com/media/37746235/ada.png\",\n",
        "    \"XRP-USD\": \"https://www.cryptocompare.com/media/37746242/xrp.png\",\n",
        "    \"SOL-USD\": \"https://www.cryptocompare.com/media/37746243/sol.png\"\n",
        "}"
      ],
      "metadata": {
        "id": "xmH_WaYbJndx"
      },
      "execution_count": null,
      "outputs": []
    },
    {
      "cell_type": "markdown",
      "source": [
        "### Função para baixar os dados históricos"
      ],
      "metadata": {
        "id": "qVRRSJqrJxA5"
      }
    },
    {
      "cell_type": "code",
      "source": [
        "def obter_dados_mercado(tickers, data_inicio=\"2020-01-01\", data_fim=\"2025-12-31\"):\n",
        "    data = yf.download(tickers, start=data_inicio, end=data_fim)\n",
        "    df = data[['Open', 'High', 'Low', 'Close', 'Volume']].stack(level=1).reset_index()\n",
        "    df.columns = ['Date', 'Ticker', 'Open', 'High', 'Low', 'Close', 'Volume']\n",
        "    df[\"Logo_URL\"] = df[\"Ticker\"].map(logos)\n",
        "    return df\n",
        "\n",
        "df = obter_dados_mercado(tickers)"
      ],
      "metadata": {
        "id": "tjE0UzsNJzXb"
      },
      "execution_count": null,
      "outputs": []
    },
    {
      "cell_type": "markdown",
      "source": [
        "### Função para calcular métricas financeiras"
      ],
      "metadata": {
        "id": "ZC_2439MJ1iO"
      }
    },
    {
      "cell_type": "code",
      "source": [
        "def calcular_metricas(df):\n",
        "    df['Daily Change (%)'] = ((df['Close'] - df['Open']) / df['Open']) * 100\n",
        "    df['Weekly Change (%)'] = df.groupby('Ticker')['Close'].pct_change(periods=5) * 100\n",
        "    df['Monthly Change (%)'] = df.groupby('Ticker')['Close'].pct_change(periods=21) * 100\n",
        "    df['SMA_7'] = df.groupby('Ticker')['Close'].transform(lambda x: x.rolling(window=7).mean())\n",
        "    df['SMA_30'] = df.groupby('Ticker')['Close'].transform(lambda x: x.rolling(window=30).mean())\n",
        "    df['EMA_7'] = df.groupby('Ticker')['Close'].transform(lambda x: x.ewm(span=7, adjust=False).mean())\n",
        "    df['EMA_30'] = df.groupby('Ticker')['Close'].transform(lambda x: x.ewm(span=30, adjust=False).mean())\n",
        "    df['Vol_Media_7'] = df.groupby('Ticker')['Volume'].transform(lambda x: x.rolling(window=7).mean())\n",
        "    df['Vol_Media_30'] = df.groupby('Ticker')['Volume'].transform(lambda x: x.rolling(window=30).mean())\n",
        "    df['Liquidez'] = df['Vol_Media_30']\n",
        "    return df\n",
        "\n",
        "df = calcular_metricas(df)"
      ],
      "metadata": {
        "id": "rpShdMp4J3F4"
      },
      "execution_count": null,
      "outputs": []
    },
    {
      "cell_type": "markdown",
      "source": [
        "### Função para cálculo do RSI"
      ],
      "metadata": {
        "id": "g45SypttJ5OT"
      }
    },
    {
      "cell_type": "code",
      "source": [
        "def calcular_rsi(series, period=14):\n",
        "    delta = series.diff()\n",
        "    gain = (delta.where(delta > 0, 0)).rolling(window=period).mean()\n",
        "    loss = (-delta.where(delta < 0, 0)).rolling(window=period).mean()\n",
        "    rs = gain / loss\n",
        "    return 100 - (100 / (1 + rs))\n",
        "\n",
        "df['RSI_14'] = df.groupby('Ticker')['Close'].transform(lambda x: calcular_rsi(x, period=14))"
      ],
      "metadata": {
        "id": "lZ0XPog2J7oB"
      },
      "execution_count": null,
      "outputs": []
    },
    {
      "cell_type": "markdown",
      "source": [
        "### Função para coletar informações das empresas"
      ],
      "metadata": {
        "id": "uvMS04g_J9Xt"
      }
    },
    {
      "cell_type": "code",
      "source": [
        "def obter_dados_empresa(tickers):\n",
        "    dados_empresa = []\n",
        "    for ticker in tickers:\n",
        "        empresa = yf.Ticker(ticker)\n",
        "        info = empresa.info\n",
        "        dados_empresa.append([\n",
        "            ticker,\n",
        "            info.get(\"longName\", ticker),\n",
        "            info.get(\"sector\", \"N/A\"),\n",
        "            info.get(\"CEO\", \"N/A\"),\n",
        "            info.get(\"address1\", \"N/A\"),\n",
        "            info.get(\"fullTimeEmployees\", \"N/A\"),\n",
        "            info.get(\"longBusinessSummary\", \"N/A\"),\n",
        "            info.get(\"exchange\", \"N/A\")\n",
        "        ])\n",
        "    return pd.DataFrame(dados_empresa, columns=[\n",
        "        \"Ticker\", \"Nome\", \"Setor\", \"CEO\", \"Endereço\", \"Número de Funcionários\", \"Descrição\", \"Bolsa\"\n",
        "    ])\n",
        "\n",
        "df_empresa = obter_dados_empresa(tickers)\n",
        "df = df.merge(df_empresa, on=\"Ticker\", how=\"left\")"
      ],
      "metadata": {
        "id": "GB1EZwCgKDvJ"
      },
      "execution_count": null,
      "outputs": []
    },
    {
      "cell_type": "markdown",
      "source": [
        "### Criando API Flask"
      ],
      "metadata": {
        "id": "vcm8dDi8KGHT"
      }
    },
    {
      "cell_type": "code",
      "source": [
        "app = Flask(__name__)\n",
        "\n",
        "@app.route('/dados', methods=['GET'])\n",
        "def get_data():\n",
        "    return jsonify(df.fillna('').to_dict(orient='records'))\n",
        "\n",
        "if __name__ == '__main__':\n",
        "    app.run(host='0.0.0.0', port=5000, debug=False)"
      ],
      "metadata": {
        "id": "SbryKpoHKH-3"
      },
      "execution_count": null,
      "outputs": []
    }
  ]
}